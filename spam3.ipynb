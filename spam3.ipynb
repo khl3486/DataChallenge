{
 "cells": [
  {
   "cell_type": "code",
   "execution_count": 9,
   "metadata": {},
   "outputs": [],
   "source": [
    "import numpy as np\n",
    "import matplotlib.pyplot as plt\n",
    "import pandas as pd\n",
    "import seaborn as sns\n",
    "from collections import Counter\n",
    "from sklearn.model_selection import train_test_split\n",
    "import re\n",
    "import nltk\n",
    "from nltk.corpus import stopwords\n",
    "from nltk.stem.porter import PorterStemmer\n",
    "from sklearn.feature_extraction.text import CountVectorizer\n",
    "from sklearn.linear_model import LogisticRegression\n",
    "from sklearn.svm import SVC\n",
    "from sklearn.naive_bayes import MultinomialNB\n",
    "from sklearn.tree import DecisionTreeClassifier\n",
    "from sklearn.neighbors import KNeighborsClassifier\n",
    "from sklearn.ensemble import RandomForestClassifier\n",
    "from sklearn.ensemble import AdaBoostClassifier\n",
    "from sklearn.ensemble import BaggingClassifier\n",
    "from sklearn.ensemble import ExtraTreesClassifier\n",
    "from sklearn.metrics import accuracy_score\n",
    "from sklearn.metrics import accuracy_score, confusion_matrix"
   ]
  },
  {
   "cell_type": "code",
   "execution_count": 10,
   "metadata": {},
   "outputs": [
    {
     "data": {
      "text/html": [
       "<div>\n",
       "<style scoped>\n",
       "    .dataframe tbody tr th:only-of-type {\n",
       "        vertical-align: middle;\n",
       "    }\n",
       "\n",
       "    .dataframe tbody tr th {\n",
       "        vertical-align: top;\n",
       "    }\n",
       "\n",
       "    .dataframe thead th {\n",
       "        text-align: right;\n",
       "    }\n",
       "</style>\n",
       "<table border=\"1\" class=\"dataframe\">\n",
       "  <thead>\n",
       "    <tr style=\"text-align: right;\">\n",
       "      <th></th>\n",
       "      <th>Unnamed: 0</th>\n",
       "      <th>Searchterm</th>\n",
       "      <th>User</th>\n",
       "      <th>Date</th>\n",
       "      <th>Tweet</th>\n",
       "      <th>Retweets</th>\n",
       "      <th>Subnum</th>\n",
       "      <th>Sentimentscore</th>\n",
       "    </tr>\n",
       "  </thead>\n",
       "  <tbody>\n",
       "    <tr>\n",
       "      <th>0</th>\n",
       "      <td>0</td>\n",
       "      <td>Chipotle</td>\n",
       "      <td>NaN</td>\n",
       "      <td>2015-01-01</td>\n",
       "      <td>Craving chipotle but what else is new</td>\n",
       "      <td>1</td>\n",
       "      <td>NaN</td>\n",
       "      <td>0.0000</td>\n",
       "    </tr>\n",
       "    <tr>\n",
       "      <th>1</th>\n",
       "      <td>1</td>\n",
       "      <td>Chipotle</td>\n",
       "      <td>NaN</td>\n",
       "      <td>2015-01-01</td>\n",
       "      <td>Spending my evening watching vampire diaries a...</td>\n",
       "      <td>0</td>\n",
       "      <td>NaN</td>\n",
       "      <td>0.0000</td>\n",
       "    </tr>\n",
       "    <tr>\n",
       "      <th>2</th>\n",
       "      <td>2</td>\n",
       "      <td>Chipotle</td>\n",
       "      <td>NaN</td>\n",
       "      <td>2015-01-01</td>\n",
       "      <td>I want chipotle</td>\n",
       "      <td>0</td>\n",
       "      <td>NaN</td>\n",
       "      <td>0.0772</td>\n",
       "    </tr>\n",
       "    <tr>\n",
       "      <th>3</th>\n",
       "      <td>3</td>\n",
       "      <td>Chipotle</td>\n",
       "      <td>NaN</td>\n",
       "      <td>2015-01-01</td>\n",
       "      <td>WE JUST DROVE ALL THE WAY TO CHIPOTLE AND IT I...</td>\n",
       "      <td>0</td>\n",
       "      <td>NaN</td>\n",
       "      <td>0.0000</td>\n",
       "    </tr>\n",
       "    <tr>\n",
       "      <th>4</th>\n",
       "      <td>4</td>\n",
       "      <td>Chipotle</td>\n",
       "      <td>NaN</td>\n",
       "      <td>2015-01-01</td>\n",
       "      <td>Chipotle, Noodles &amp; Co, and Chick Fil A are al...</td>\n",
       "      <td>0</td>\n",
       "      <td>NaN</td>\n",
       "      <td>0.0000</td>\n",
       "    </tr>\n",
       "  </tbody>\n",
       "</table>\n",
       "</div>"
      ],
      "text/plain": [
       "   Unnamed: 0 Searchterm  User        Date  \\\n",
       "0           0   Chipotle   NaN  2015-01-01   \n",
       "1           1   Chipotle   NaN  2015-01-01   \n",
       "2           2   Chipotle   NaN  2015-01-01   \n",
       "3           3   Chipotle   NaN  2015-01-01   \n",
       "4           4   Chipotle   NaN  2015-01-01   \n",
       "\n",
       "                                               Tweet  Retweets  Subnum  \\\n",
       "0              Craving chipotle but what else is new         1     NaN   \n",
       "1  Spending my evening watching vampire diaries a...         0     NaN   \n",
       "2                                    I want chipotle         0     NaN   \n",
       "3  WE JUST DROVE ALL THE WAY TO CHIPOTLE AND IT I...         0     NaN   \n",
       "4  Chipotle, Noodles & Co, and Chick Fil A are al...         0     NaN   \n",
       "\n",
       "   Sentimentscore  \n",
       "0          0.0000  \n",
       "1          0.0000  \n",
       "2          0.0772  \n",
       "3          0.0000  \n",
       "4          0.0000  "
      ]
     },
     "execution_count": 10,
     "metadata": {},
     "output_type": "execute_result"
    }
   ],
   "source": [
    "#data = pd.read_csv(\"Scores_CMG.csv\")\n",
    "data =pd.read_csv('Scores_CMG.csv', encoding='utf8', engine='python')\n",
    "data.head()"
   ]
  },
  {
   "cell_type": "code",
   "execution_count": 13,
   "metadata": {},
   "outputs": [],
   "source": [
    "data = data.drop(['Searchterm', 'User', 'Date', 'Retweets', 'Subnum', 'Sentimentscore'], axis = 1)"
   ]
  },
  {
   "cell_type": "code",
   "execution_count": 15,
   "metadata": {},
   "outputs": [],
   "source": [
    "data = data.astype(str)\n",
    "data[\"labels\"] = \"\"\n",
    "data.loc[data['Tweet'].str.contains('http'), 'labels'] = '1'"
   ]
  },
  {
   "cell_type": "code",
   "execution_count": 16,
   "metadata": {},
   "outputs": [],
   "source": [
    "data.rename(columns = {'Tweet' : 'text'}, inplace = True)"
   ]
  },
  {
   "cell_type": "code",
   "execution_count": 17,
   "metadata": {},
   "outputs": [
    {
     "data": {
      "text/html": [
       "<div>\n",
       "<style scoped>\n",
       "    .dataframe tbody tr th:only-of-type {\n",
       "        vertical-align: middle;\n",
       "    }\n",
       "\n",
       "    .dataframe tbody tr th {\n",
       "        vertical-align: top;\n",
       "    }\n",
       "\n",
       "    .dataframe thead th {\n",
       "        text-align: right;\n",
       "    }\n",
       "</style>\n",
       "<table border=\"1\" class=\"dataframe\">\n",
       "  <thead>\n",
       "    <tr style=\"text-align: right;\">\n",
       "      <th></th>\n",
       "      <th>Unnamed: 0</th>\n",
       "      <th>text</th>\n",
       "      <th>label</th>\n",
       "    </tr>\n",
       "  </thead>\n",
       "  <tbody>\n",
       "    <tr>\n",
       "      <th>0</th>\n",
       "      <td>0</td>\n",
       "      <td>Craving chipotle but what else is new</td>\n",
       "      <td>0</td>\n",
       "    </tr>\n",
       "    <tr>\n",
       "      <th>1</th>\n",
       "      <td>1</td>\n",
       "      <td>Spending my evening watching vampire diaries a...</td>\n",
       "      <td>0</td>\n",
       "    </tr>\n",
       "    <tr>\n",
       "      <th>2</th>\n",
       "      <td>2</td>\n",
       "      <td>I want chipotle</td>\n",
       "      <td>0</td>\n",
       "    </tr>\n",
       "    <tr>\n",
       "      <th>3</th>\n",
       "      <td>3</td>\n",
       "      <td>WE JUST DROVE ALL THE WAY TO CHIPOTLE AND IT I...</td>\n",
       "      <td>0</td>\n",
       "    </tr>\n",
       "    <tr>\n",
       "      <th>4</th>\n",
       "      <td>4</td>\n",
       "      <td>Chipotle, Noodles &amp; Co, and Chick Fil A are al...</td>\n",
       "      <td>0</td>\n",
       "    </tr>\n",
       "  </tbody>\n",
       "</table>\n",
       "</div>"
      ],
      "text/plain": [
       "  Unnamed: 0                                               text  label\n",
       "0          0              Craving chipotle but what else is new      0\n",
       "1          1  Spending my evening watching vampire diaries a...      0\n",
       "2          2                                    I want chipotle      0\n",
       "3          3  WE JUST DROVE ALL THE WAY TO CHIPOTLE AND IT I...      0\n",
       "4          4  Chipotle, Noodles & Co, and Chick Fil A are al...      0"
      ]
     },
     "execution_count": 17,
     "metadata": {},
     "output_type": "execute_result"
    }
   ],
   "source": [
    "data['label'] = data['labels'].map({'1': 1, '': 0})\n",
    "data.drop(['labels'], axis = 1, inplace = True)\n",
    "data.head()"
   ]
  },
  {
   "cell_type": "code",
   "execution_count": 18,
   "metadata": {},
   "outputs": [
    {
     "data": {
      "text/html": [
       "<div>\n",
       "<style scoped>\n",
       "    .dataframe tbody tr th:only-of-type {\n",
       "        vertical-align: middle;\n",
       "    }\n",
       "\n",
       "    .dataframe tbody tr th {\n",
       "        vertical-align: top;\n",
       "    }\n",
       "\n",
       "    .dataframe thead th {\n",
       "        text-align: right;\n",
       "    }\n",
       "</style>\n",
       "<table border=\"1\" class=\"dataframe\">\n",
       "  <thead>\n",
       "    <tr style=\"text-align: right;\">\n",
       "      <th></th>\n",
       "      <th>Unnamed: 0</th>\n",
       "      <th>text</th>\n",
       "      <th>target</th>\n",
       "    </tr>\n",
       "  </thead>\n",
       "  <tbody>\n",
       "    <tr>\n",
       "      <th>0</th>\n",
       "      <td>0</td>\n",
       "      <td>Craving chipotle but what else is new</td>\n",
       "      <td>0</td>\n",
       "    </tr>\n",
       "    <tr>\n",
       "      <th>1</th>\n",
       "      <td>1</td>\n",
       "      <td>Spending my evening watching vampire diaries a...</td>\n",
       "      <td>0</td>\n",
       "    </tr>\n",
       "    <tr>\n",
       "      <th>2</th>\n",
       "      <td>2</td>\n",
       "      <td>I want chipotle</td>\n",
       "      <td>0</td>\n",
       "    </tr>\n",
       "    <tr>\n",
       "      <th>3</th>\n",
       "      <td>3</td>\n",
       "      <td>WE JUST DROVE ALL THE WAY TO CHIPOTLE AND IT I...</td>\n",
       "      <td>0</td>\n",
       "    </tr>\n",
       "    <tr>\n",
       "      <th>4</th>\n",
       "      <td>4</td>\n",
       "      <td>Chipotle, Noodles &amp; Co, and Chick Fil A are al...</td>\n",
       "      <td>0</td>\n",
       "    </tr>\n",
       "  </tbody>\n",
       "</table>\n",
       "</div>"
      ],
      "text/plain": [
       "  Unnamed: 0                                               text  target\n",
       "0          0              Craving chipotle but what else is new       0\n",
       "1          1  Spending my evening watching vampire diaries a...       0\n",
       "2          2                                    I want chipotle       0\n",
       "3          3  WE JUST DROVE ALL THE WAY TO CHIPOTLE AND IT I...       0\n",
       "4          4  Chipotle, Noodles & Co, and Chick Fil A are al...       0"
      ]
     },
     "execution_count": 18,
     "metadata": {},
     "output_type": "execute_result"
    }
   ],
   "source": [
    "data = data.rename(columns ={\"label\":\"target\"})\n",
    "data.head()"
   ]
  },
  {
   "cell_type": "code",
   "execution_count": 19,
   "metadata": {},
   "outputs": [
    {
     "data": {
      "text/plain": [
       "0    316470\n",
       "1     45190\n",
       "Name: target, dtype: int64"
      ]
     },
     "execution_count": 19,
     "metadata": {},
     "output_type": "execute_result"
    }
   ],
   "source": [
    "data.target.value_counts()"
   ]
  },
  {
   "cell_type": "code",
   "execution_count": 20,
   "metadata": {},
   "outputs": [
    {
     "data": {
      "text/html": [
       "<div>\n",
       "<style scoped>\n",
       "    .dataframe tbody tr th:only-of-type {\n",
       "        vertical-align: middle;\n",
       "    }\n",
       "\n",
       "    .dataframe tbody tr th {\n",
       "        vertical-align: top;\n",
       "    }\n",
       "\n",
       "    .dataframe thead tr th {\n",
       "        text-align: left;\n",
       "    }\n",
       "\n",
       "    .dataframe thead tr:last-of-type th {\n",
       "        text-align: right;\n",
       "    }\n",
       "</style>\n",
       "<table border=\"1\" class=\"dataframe\">\n",
       "  <thead>\n",
       "    <tr>\n",
       "      <th></th>\n",
       "      <th colspan=\"4\" halign=\"left\">Unnamed: 0</th>\n",
       "      <th colspan=\"4\" halign=\"left\">text</th>\n",
       "    </tr>\n",
       "    <tr>\n",
       "      <th></th>\n",
       "      <th>count</th>\n",
       "      <th>unique</th>\n",
       "      <th>top</th>\n",
       "      <th>freq</th>\n",
       "      <th>count</th>\n",
       "      <th>unique</th>\n",
       "      <th>top</th>\n",
       "      <th>freq</th>\n",
       "    </tr>\n",
       "    <tr>\n",
       "      <th>target</th>\n",
       "      <th></th>\n",
       "      <th></th>\n",
       "      <th></th>\n",
       "      <th></th>\n",
       "      <th></th>\n",
       "      <th></th>\n",
       "      <th></th>\n",
       "      <th></th>\n",
       "    </tr>\n",
       "  </thead>\n",
       "  <tbody>\n",
       "    <tr>\n",
       "      <th>0</th>\n",
       "      <td>316470</td>\n",
       "      <td>316470</td>\n",
       "      <td>96231</td>\n",
       "      <td>1</td>\n",
       "      <td>316470</td>\n",
       "      <td>277666</td>\n",
       "      <td>I want chipotle</td>\n",
       "      <td>3406</td>\n",
       "    </tr>\n",
       "    <tr>\n",
       "      <th>1</th>\n",
       "      <td>45190</td>\n",
       "      <td>45190</td>\n",
       "      <td>264635</td>\n",
       "      <td>1</td>\n",
       "      <td>45190</td>\n",
       "      <td>39986</td>\n",
       "      <td>I just checked in @ ChipotleTweets with  mPLAC...</td>\n",
       "      <td>889</td>\n",
       "    </tr>\n",
       "  </tbody>\n",
       "</table>\n",
       "</div>"
      ],
      "text/plain": [
       "       Unnamed: 0                         text          \\\n",
       "            count  unique     top freq   count  unique   \n",
       "target                                                   \n",
       "0          316470  316470   96231    1  316470  277666   \n",
       "1           45190   45190  264635    1   45190   39986   \n",
       "\n",
       "                                                                 \n",
       "                                                      top  freq  \n",
       "target                                                           \n",
       "0                                         I want chipotle  3406  \n",
       "1       I just checked in @ ChipotleTweets with  mPLAC...   889  "
      ]
     },
     "execution_count": 20,
     "metadata": {},
     "output_type": "execute_result"
    }
   ],
   "source": [
    "data.groupby('target').describe()"
   ]
  },
  {
   "cell_type": "code",
   "execution_count": 21,
   "metadata": {},
   "outputs": [
    {
     "data": {
      "text/plain": [
       "Text(0.5, 1.0, 'Distribution of Spam and Ham')"
      ]
     },
     "execution_count": 21,
     "metadata": {},
     "output_type": "execute_result"
    },
    {
     "data": {
      "image/png": "[encoded data removed]",
      "text/plain": [
       "<Figure size 432x288 with 1 Axes>"
      ]
     },
     "metadata": {
      "needs_background": "light"
     },
     "output_type": "display_data"
    }
   ],
   "source": [
    "sns.countplot(x = \"target\", data = data)\n",
    "data.loc[:, 'target'].value_counts()\n",
    "plt.title('Distribution of Spam and Ham')"
   ]
  },
  {
   "cell_type": "code",
   "execution_count": 22,
   "metadata": {},
   "outputs": [
    {
     "data": {
      "text/plain": [
       "<matplotlib.legend.Legend at 0x24efe96aef0>"
      ]
     },
     "execution_count": 22,
     "metadata": {},
     "output_type": "execute_result"
    },
    {
     "data": {
      "image/png": "[encoded data removed]",
      "text/plain": [
       "<Figure size 432x288 with 1 Axes>"
      ]
     },
     "metadata": {
      "needs_background": "light"
     },
     "output_type": "display_data"
    }
   ],
   "source": [
    "ham =data[data['target'] == 0]['text'].str.len()\n",
    "sns.distplot(ham, label='Ham')\n",
    "spam = data[data['target'] == 1]['text'].str.len()\n",
    "sns.distplot(spam, label='Spam')\n",
    "plt.title('Distribution by Length')\n",
    "plt.legend()"
   ]
  },
  {
   "cell_type": "code",
   "execution_count": 23,
   "metadata": {},
   "outputs": [
    {
     "data": {
      "text/plain": [
       "<matplotlib.legend.Legend at 0x24effe48860>"
      ]
     },
     "execution_count": 23,
     "metadata": {},
     "output_type": "execute_result"
    },
    {
     "data": {
      "image/png": "[encoded data removed]",
      "text/plain": [
       "<Figure size 432x288 with 1 Axes>"
      ]
     },
     "metadata": {
      "needs_background": "light"
     },
     "output_type": "display_data"
    }
   ],
   "source": [
    "ham1 = data[data['target'] == 0]['text'].str.replace(r'\\D+', '').str.len()\n",
    "sns.distplot(ham1, label='Ham')\n",
    "spam1 = data[data['target'] == 1]['text'].str.replace(r'\\D+', '').str.len()\n",
    "sns.distplot(spam1, label='Spam')\n",
    "plt.title('Distribution by Digits')\n",
    "plt.legend()"
   ]
  },
  {
   "cell_type": "code",
   "execution_count": 24,
   "metadata": {},
   "outputs": [
    {
     "data": {
      "text/plain": [
       "<matplotlib.legend.Legend at 0x24e8036ad68>"
      ]
     },
     "execution_count": 24,
     "metadata": {},
     "output_type": "execute_result"
    },
    {
     "data": {
      "image/png": "[encoded data removed]",
      "text/plain": [
       "<Figure size 432x288 with 1 Axes>"
      ]
     },
     "metadata": {
      "needs_background": "light"
     },
     "output_type": "display_data"
    }
   ],
   "source": [
    "ham2 = data[data['target'] == 0]['text'].str.replace(r'\\w+', '').str.len()\n",
    "sns.distplot(ham2, label='Ham')\n",
    "spam2 = data[data['target'] == 1]['text'].str.replace(r'\\w+', '').str.len()\n",
    "sns.distplot(spam2, label='Spam')\n",
    "plt.title('Distribution of Non-Digits')\n",
    "plt.legend()"
   ]
  },
  {
   "cell_type": "code",
   "execution_count": 25,
   "metadata": {},
   "outputs": [],
   "source": [
    "count1 = Counter(\" \".join(data[data['target']==0][\"text\"]).split()).most_common(30)\n",
    "data1 = pd.DataFrame.from_dict(count1)\n",
    "data1 = data1.rename(columns={0: \"words of ham\", 1 : \"count\"})\n",
    "count2 = Counter(\" \".join(data[data['target']==1][\"text\"]).split()).most_common(30)\n",
    "data2 = pd.DataFrame.from_dict(count2)\n",
    "data2 = data2.rename(columns={0: \"words of spam\", 1 : \"count_\"})"
   ]
  },
  {
   "cell_type": "code",
   "execution_count": 26,
   "metadata": {},
   "outputs": [
    {
     "data": {
      "image/png": "[encoded data removed]",
      "text/plain": [
       "<Figure size 1440x1080 with 1 Axes>"
      ]
     },
     "metadata": {
      "needs_background": "light"
     },
     "output_type": "display_data"
    }
   ],
   "source": [
    "data1.plot.bar(legend = False, color = 'purple',figsize = (20,15))\n",
    "y_pos = np.arange(len(data1[\"words of ham\"]))\n",
    "plt.xticks(y_pos, data1[\"words of ham\"])\n",
    "plt.title('Top 30 words of ham')\n",
    "plt.xlabel('words')\n",
    "plt.ylabel('number')\n",
    "plt.show()"
   ]
  },
  {
   "cell_type": "code",
   "execution_count": 27,
   "metadata": {},
   "outputs": [
    {
     "data": {
      "image/png": "[encoded data removed]",
      "text/plain": [
       "<Figure size 1440x1224 with 1 Axes>"
      ]
     },
     "metadata": {
      "needs_background": "light"
     },
     "output_type": "display_data"
    }
   ],
   "source": [
    "data2.plot.bar(legend = False, color = 'green', figsize = (20,17))\n",
    "y_pos = np.arange(len(data2[\"words of spam\"]))\n",
    "plt.xticks(y_pos, data2[\"words of spam\"])\n",
    "plt.title('Top 30 words of spam')\n",
    "plt.xlabel('words')\n",
    "plt.ylabel('number')\n",
    "plt.show()"
   ]
  },
  {
   "cell_type": "code",
   "execution_count": 28,
   "metadata": {},
   "outputs": [
    {
     "name": "stdout",
     "output_type": "stream",
     "text": [
      "X_train:  253162\n",
      "X_test:  108498\n",
      "y_train:  253162\n",
      "y_test:  108498\n"
     ]
    }
   ],
   "source": [
    "from sklearn.model_selection import train_test_split\n",
    "X_train, X_test, y_train, y_test = train_test_split(data['text'], data['target'], test_size = 0.3, random_state = 37)\n",
    "print (\"X_train: \", len(X_train))\n",
    "print(\"X_test: \", len(X_test))\n",
    "print(\"y_train: \", len(y_train))\n",
    "print(\"y_test: \", len(y_test))"
   ]
  },
  {
   "cell_type": "code",
   "execution_count": null,
   "metadata": {},
   "outputs": [],
   "source": [
    "corpus = []\n",
    "for i in range(0, 361660):\n",
    "    review = re.sub('[^a-zA-Z]', ' ', data['text'][i])\n",
    "    review = review.lower()\n",
    "    review = review.split()\n",
    "    ps = PorterStemmer()\n",
    "    review = [ps.stem(word) for word in review if not word in set(stopwords.words('english'))]\n",
    "    review = ' '.join(review)\n",
    "    corpus.append(review)"
   ]
  },
  {
   "cell_type": "code",
   "execution_count": null,
   "metadata": {},
   "outputs": [],
   "source": [
    "cv = CountVectorizer(max_features = 1500)\n",
    "cv.fit(X_train)"
   ]
  },
  {
   "cell_type": "code",
   "execution_count": null,
   "metadata": {},
   "outputs": [],
   "source": [
    "X_train_cv = cv.transform(X_train)\n",
    "X_train_cv"
   ]
  },
  {
   "cell_type": "code",
   "execution_count": null,
   "metadata": {},
   "outputs": [],
   "source": [
    "X_test_cv = cv.transform(X_test)\n",
    "X_test_cv"
   ]
  },
  {
   "cell_type": "code",
   "execution_count": null,
   "metadata": {},
   "outputs": [],
   "source": [
    "mnb = MultinomialNB(alpha = 0.5)\n",
    "mnb.fit(X_train_cv,y_train)\n",
    "\n",
    "y_mnb = mnb.predict(X_test_cv)\n",
    "print('Naive Bayes Accuracy: ', accuracy_score( y_mnb , y_test))\n",
    "print('Naive Bayes confusion_matrix: ', confusion_matrix(y_mnb, y_test))"
   ]
  },
  {
   "cell_type": "code",
   "execution_count": null,
   "metadata": {},
   "outputs": [],
   "source": [
    "svc = SVC(kernel='sigmoid', gamma=1.0)\n",
    "svc.fit(X_train_cv,y_train)\n",
    "y_svc = svc.predict(X_test_cv)\n",
    "print('SVM Accuracy: ', accuracy_score( y_svc , y_test))\n",
    "print('SVM confusion_matrix: ', confusion_matrix(y_svc, y_test))"
   ]
  },
  {
   "cell_type": "code",
   "execution_count": null,
   "metadata": {},
   "outputs": [],
   "source": [
    "knc = KNeighborsClassifier(n_neighbors=100)\n",
    "knc.fit(X_train_cv,y_train)\n",
    "\n",
    "y_knc = knc.predict(X_test_cv)\n",
    "print('KNeighbors Accuracy_score: ',accuracy_score(y_test,y_knc))\n",
    "print('KNeighbors confusion_matrix: ', confusion_matrix(y_test, y_knc)) "
   ]
  },
  {
   "cell_type": "code",
   "execution_count": null,
   "metadata": {},
   "outputs": [],
   "source": [
    "dtc = DecisionTreeClassifier(min_samples_split=7, random_state=252)\n",
    "dtc.fit(X_train_cv,y_train)\n",
    "y_dtc = dtc.predict(X_test_cv)\n",
    "print('Decision Tree Accuracy: ',accuracy_score(y_test,y_dtc))\n",
    "print('Decision Tree confusion_matrix: ', confusion_matrix(y_dtc, y_test))     "
   ]
  },
  {
   "cell_type": "code",
   "execution_count": null,
   "metadata": {},
   "outputs": [],
   "source": [
    "etc = ExtraTreesClassifier(n_estimators=37, random_state=252)\n",
    "etc.fit(X_train_cv,y_train)\n",
    "y_etc = etc.predict(X_test_cv)\n",
    "print('Extra Tree Accuracy_score: ',accuracy_score(y_test,y_etc))\n",
    "print('Extra Tree confusion_matrix: ', confusion_matrix(y_etc, y_test)) "
   ]
  },
  {
   "cell_type": "code",
   "execution_count": null,
   "metadata": {},
   "outputs": [],
   "source": [
    "rfc = RandomForestClassifier(n_estimators=37, random_state=252)\n",
    "rfc.fit(X_train_cv,y_train)\n",
    "y_rfc = rfc.predict(X_test_cv)\n",
    "print('Random Forest confusion_matrix: ', confusion_matrix(y_rfc, y_test)) "
   ]
  },
  {
   "cell_type": "code",
   "execution_count": null,
   "metadata": {},
   "outputs": [],
   "source": [
    "abc = AdaBoostClassifier(n_estimators=37, random_state=252)\n",
    "abc.fit(X_train_cv,y_train)\n",
    "y_abc = abc.predict(X_test_cv)\n",
    "print('AdaBoost Accuracy_score: ',accuracy_score(y_test,y_abc))\n",
    "print('AdaBoost confusion_matrix: ', confusion_matrix(y_abc, y_test)) "
   ]
  },
  {
   "cell_type": "code",
   "execution_count": null,
   "metadata": {},
   "outputs": [],
   "source": [
    "bc = BaggingClassifier(n_estimators=9, random_state=252)\n",
    "bc.fit(X_train_cv,y_train)\n",
    "y_bc = bc.predict(X_test_cv)\n",
    "print('Bagging Accuracy_score: ',accuracy_score(y_test,y_bc))\n",
    "print('Bagging confusion_matrix: ', confusion_matrix(y_bc, y_test)) "
   ]
  },
  {
   "cell_type": "code",
   "execution_count": null,
   "metadata": {},
   "outputs": [],
   "source": []
  }
 ],
 "metadata": {
  "kernelspec": {
   "display_name": "Python 3",
   "language": "python",
   "name": "python3"
  },
  "language_info": {
   "codemirror_mode": {
    "name": "ipython",
    "version": 3
   },
   "file_extension": ".py",
   "mimetype": "text/x-python",
   "name": "python",
   "nbconvert_exporter": "python",
   "pygments_lexer": "ipython3",
   "version": "3.7.3"
  }
 },
 "nbformat": 4,
 "nbformat_minor": 2
}
